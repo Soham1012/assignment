{
 "cells": [
  {
   "cell_type": "code",
   "execution_count": 15,
   "id": "9e6a0ac5",
   "metadata": {},
   "outputs": [
    {
     "name": "stdout",
     "output_type": "stream",
     "text": [
      "enter a string to calulate the length : my nmn mnbv \n",
      "count of all character in s is :\n",
      "  {'m': 3, 'y': 1, ' ': 3, 'n': 3, 'b': 1, 'v': 1}\n"
     ]
    }
   ],
   "source": [
    "    s=input(\"enter a string to calulate the length : \")\n",
    "    c={}\n",
    "    for i in s:\n",
    "        if i in c:\n",
    "            c[i]+=1\n",
    "        else:\n",
    "            c[i]=1\n",
    "    print(\"count of all character in s is :\\n \",str(c))"
   ]
  }
 ],
 "metadata": {
  "kernelspec": {
   "display_name": "Python 3 (ipykernel)",
   "language": "python",
   "name": "python3"
  },
  "language_info": {
   "codemirror_mode": {
    "name": "ipython",
    "version": 3
   },
   "file_extension": ".py",
   "mimetype": "text/x-python",
   "name": "python",
   "nbconvert_exporter": "python",
   "pygments_lexer": "ipython3",
   "version": "3.9.12"
  }
 },
 "nbformat": 4,
 "nbformat_minor": 5
}
