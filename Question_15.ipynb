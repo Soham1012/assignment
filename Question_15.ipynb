{
 "cells": [
  {
   "cell_type": "code",
   "execution_count": 21,
   "id": "4e0c4e08",
   "metadata": {},
   "outputs": [
    {
     "name": "stdout",
     "output_type": "stream",
     "text": [
      "Enter your string: soham\n",
      "sohaming\n"
     ]
    }
   ],
   "source": [
    "x=input(\"Enter your string: \")\n",
    "\n",
    "if x.endswith('ing'):\n",
    "    print(x.replace(\"ing\",\"ly\"))\n",
    "elif len(x)>=3:\n",
    "    print(x+'ing')\n",
    "else:\n",
    "    print(x)"
   ]
  }
 ],
 "metadata": {
  "kernelspec": {
   "display_name": "Python 3 (ipykernel)",
   "language": "python",
   "name": "python3"
  },
  "language_info": {
   "codemirror_mode": {
    "name": "ipython",
    "version": 3
   },
   "file_extension": ".py",
   "mimetype": "text/x-python",
   "name": "python",
   "nbconvert_exporter": "python",
   "pygments_lexer": "ipython3",
   "version": "3.9.12"
  }
 },
 "nbformat": 4,
 "nbformat_minor": 5
}
