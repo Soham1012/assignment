{
 "cells": [
  {
   "cell_type": "code",
   "execution_count": 2,
   "id": "13dc4a0c",
   "metadata": {},
   "outputs": [
    {
     "name": "stdout",
     "output_type": "stream",
     "text": [
      "enter a string to calulate the length : my mane is soham\n",
      "enter a substring : m\n",
      "3\n"
     ]
    }
   ],
   "source": [
    "s=input(\"enter a string to calulate the length : \")\n",
    "m=input(\"enter a substring : \")\n",
    "print(s.count(m))\n"
   ]
  }
 ],
 "metadata": {
  "kernelspec": {
   "display_name": "Python 3 (ipykernel)",
   "language": "python",
   "name": "python3"
  },
  "language_info": {
   "codemirror_mode": {
    "name": "ipython",
    "version": 3
   },
   "file_extension": ".py",
   "mimetype": "text/x-python",
   "name": "python",
   "nbconvert_exporter": "python",
   "pygments_lexer": "ipython3",
   "version": "3.9.12"
  }
 },
 "nbformat": 4,
 "nbformat_minor": 5
}
