{
 "cells": [
  {
   "cell_type": "code",
   "execution_count": 6,
   "id": "54732f34",
   "metadata": {},
   "outputs": [
    {
     "name": "stdout",
     "output_type": "stream",
     "text": [
      "enter a1: 78\n",
      "enter a2: 56\n",
      "a1= 56\n",
      "a2= 78\n"
     ]
    }
   ],
   "source": [
    "#swap two number without temp variable\n",
    "a1=int(input('enter a1: '))\n",
    "a2=int(input('enter a2: '))\n",
    "a1,a2=a2,a1\n",
    "print(\"a1=\",a1)\n",
    "print(\"a2=\",a2)"
   ]
  },
  {
   "cell_type": "code",
   "execution_count": 5,
   "id": "1e407d1d",
   "metadata": {},
   "outputs": [
    {
     "name": "stdout",
     "output_type": "stream",
     "text": [
      "enter a1: 98\n",
      "enter a2: 89\n",
      "a1= 89\n",
      "a2= 98\n"
     ]
    }
   ],
   "source": [
    "#swap two number using temp variable\n",
    "a1=int(input('enter a1: '))\n",
    "a2=int(input('enter a2: '))\n",
    "temp=0\n",
    "temp=a1\n",
    "a1=a2\n",
    "a2=temp\n",
    "print(\"a1=\",a1)\n",
    "print(\"a2=\",a2)\n"
   ]
  }
 ],
 "metadata": {
  "kernelspec": {
   "display_name": "Python 3 (ipykernel)",
   "language": "python",
   "name": "python3"
  },
  "language_info": {
   "codemirror_mode": {
    "name": "ipython",
    "version": 3
   },
   "file_extension": ".py",
   "mimetype": "text/x-python",
   "name": "python",
   "nbconvert_exporter": "python",
   "pygments_lexer": "ipython3",
   "version": "3.9.12"
  }
 },
 "nbformat": 4,
 "nbformat_minor": 5
}
