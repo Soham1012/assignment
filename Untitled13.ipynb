{
 "cells": [
  {
   "cell_type": "markdown",
   "id": "7425f708",
   "metadata": {},
   "source": [
    "## question 1 = fctorial using recursion"
   ]
  },
  {
   "cell_type": "code",
   "execution_count": 3,
   "id": "ec4cf73a",
   "metadata": {},
   "outputs": [],
   "source": [
    "def factorial(n):\n",
    "    if n==1:\n",
    "        return n\n",
    "    else:\n",
    "        return n*factorial(n-1)\n"
   ]
  },
  {
   "cell_type": "code",
   "execution_count": 4,
   "id": "e2855ba1",
   "metadata": {},
   "outputs": [
    {
     "name": "stdout",
     "output_type": "stream",
     "text": [
      "entere a number : 4\n",
      "the factorial of  4 is 24\n"
     ]
    }
   ],
   "source": [
    "n= int(input(\"entere a number : \"))\n",
    "\n",
    "print('the factorial of ',n,'is',factorial(n))"
   ]
  },
  {
   "cell_type": "markdown",
   "id": "f9107442",
   "metadata": {},
   "source": [
    "## question 2= make unique list from given list"
   ]
  },
  {
   "cell_type": "code",
   "execution_count": 6,
   "id": "d6729eb5",
   "metadata": {},
   "outputs": [
    {
     "name": "stdout",
     "output_type": "stream",
     "text": [
      "[1, 2, 3, 4, 5]\n"
     ]
    }
   ],
   "source": [
    "def unique_list(l):\n",
    "  x = []\n",
    "  for a in l:\n",
    "    if a not in x:\n",
    "      x.append(a)\n",
    "  return x\n",
    "\n",
    "print(unique_list([1,2,3,3,3,3,4,5])) "
   ]
  },
  {
   "cell_type": "markdown",
   "id": "d684d27d",
   "metadata": {},
   "source": [
    "# question-3 list of tuple convert into dict."
   ]
  },
  {
   "cell_type": "code",
   "execution_count": 10,
   "id": "1967f42f",
   "metadata": {},
   "outputs": [
    {
     "name": "stdout",
     "output_type": "stream",
     "text": [
      "entere a name: ahemdabad\n"
     ]
    }
   ],
   "source": [
    "tu=(('name','soham'),('city',input('entere a name: ')))\n"
   ]
  },
  {
   "cell_type": "code",
   "execution_count": 11,
   "id": "30d44353",
   "metadata": {},
   "outputs": [],
   "source": [
    "dic=dict(tu)"
   ]
  },
  {
   "cell_type": "code",
   "execution_count": 12,
   "id": "f033b284",
   "metadata": {},
   "outputs": [
    {
     "name": "stdout",
     "output_type": "stream",
     "text": [
      "{'name': 'soham', 'city': 'ahemdabad'}\n"
     ]
    }
   ],
   "source": [
    "print(dic)"
   ]
  },
  {
   "cell_type": "markdown",
   "id": "4a4c8e70",
   "metadata": {},
   "source": [
    "## question-4   sort a dictionary (ascending /descending) by value."
   ]
  },
  {
   "cell_type": "code",
   "execution_count": 4,
   "id": "944b5005",
   "metadata": {},
   "outputs": [
    {
     "name": "stdout",
     "output_type": "stream",
     "text": [
      "[('soham', 1), ('57', 2), ('varj', 3), ('58', 4), ('manan', 5)]\n"
     ]
    }
   ],
   "source": [
    "dict = {'soham': 1, 'varj': 3, 'manan': 5, '57': 2, '58': 4}\n",
    "a = sorted(dict.items(), key=lambda x: x[1])\n",
    "print(a)"
   ]
  },
  {
   "cell_type": "code",
   "execution_count": 8,
   "id": "bf5fce91",
   "metadata": {},
   "outputs": [
    {
     "name": "stdout",
     "output_type": "stream",
     "text": [
      "[('manan', 5), ('58', 4), ('varj', 3), ('57', 2), ('soham', 1)]\n"
     ]
    }
   ],
   "source": [
    "dict = {'soham': 1, 'varj': 3, 'manan': 5, '57': 2, '58': 4}\n",
    "a = sorted(dict.items(), key=lambda x: x[1], reverse=True)\n",
    "print(a)"
   ]
  },
  {
   "cell_type": "markdown",
   "id": "f84b44e9",
   "metadata": {},
   "source": [
    "## question 5 Counting the frequencies in a list using a dictionary in Python."
   ]
  },
  {
   "cell_type": "code",
   "execution_count": 1,
   "id": "60fa29ff",
   "metadata": {},
   "outputs": [
    {
     "name": "stdout",
     "output_type": "stream",
     "text": [
      "{1: 4, 3: 4, 2: 5, 6: 2, 5: 4, 4: 4, 7: 1, 25: 1, 12: 2, 15: 1, 74: 1, 44: 1, 77: 1, 66: 1, 41: 1}\n"
     ]
    }
   ],
   "source": [
    "def CountFreq(li):\n",
    "    freq = {}\n",
    "    for item in li:\n",
    "        if (item in freq):\n",
    "            freq[item] += 1\n",
    "        else:\n",
    "            freq[item] = 1\n",
    "    print(freq) \n",
    "    \n",
    "li =[1, 1, 3, 2, 6, 5, 3, 1, 3, 3, 1, 4, 6, 4, 4, 2, 2, 2, 2, 5, 7, 25, 12, 12, 15, 74 ,44 , 77, 4, 5, 5 , 66, 41]\n",
    "CountFreq(li)\n"
   ]
  },
  {
   "cell_type": "markdown",
   "id": "1e9bafe1",
   "metadata": {},
   "source": [
    "## question 6  takes a list and returns a new list with unique elements of the first list"
   ]
  },
  {
   "cell_type": "code",
   "execution_count": 5,
   "id": "02831ccd",
   "metadata": {},
   "outputs": [
    {
     "name": "stdout",
     "output_type": "stream",
     "text": [
      "[1, 2, 3, 5, 8, 6, 88, 4, 9, 7]\n"
     ]
    }
   ],
   "source": [
    "def unique_list(l):\n",
    "  x = []\n",
    "  for a in l:\n",
    "    if a not in x:\n",
    "      x.append(a)\n",
    "  return x\n",
    "\n",
    "print(unique_list([1,2,3,3,3,5,2,8,5,2,3,6,88,4,1,2,3,6,5,9,7,3,4,5]))"
   ]
  }
 ],
 "metadata": {
  "kernelspec": {
   "display_name": "Python 3 (ipykernel)",
   "language": "python",
   "name": "python3"
  },
  "language_info": {
   "codemirror_mode": {
    "name": "ipython",
    "version": 3
   },
   "file_extension": ".py",
   "mimetype": "text/x-python",
   "name": "python",
   "nbconvert_exporter": "python",
   "pygments_lexer": "ipython3",
   "version": "3.9.12"
  }
 },
 "nbformat": 4,
 "nbformat_minor": 5
}
