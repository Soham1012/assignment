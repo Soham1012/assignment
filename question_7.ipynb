{
 "cells": [
  {
   "cell_type": "code",
   "execution_count": 8,
   "id": "133f2c4e",
   "metadata": {},
   "outputs": [
    {
     "name": "stdout",
     "output_type": "stream",
     "text": [
      "enter a: 12\n",
      "enter b: 12\n",
      "enter c: 12\n",
      "0\n"
     ]
    }
   ],
   "source": [
    "a=int(input('enter a: '))\n",
    "b=int(input('enter b: '))\n",
    "c=int(input('enter c: '))\n",
    "if a==b or b==c or c==a:\n",
    "    print(\"0\")\n",
    "else:\n",
    "    print(a+b+c)"
   ]
  }
 ],
 "metadata": {
  "kernelspec": {
   "display_name": "Python 3 (ipykernel)",
   "language": "python",
   "name": "python3"
  },
  "language_info": {
   "codemirror_mode": {
    "name": "ipython",
    "version": 3
   },
   "file_extension": ".py",
   "mimetype": "text/x-python",
   "name": "python",
   "nbconvert_exporter": "python",
   "pygments_lexer": "ipython3",
   "version": "3.9.12"
  }
 },
 "nbformat": 4,
 "nbformat_minor": 5
}
