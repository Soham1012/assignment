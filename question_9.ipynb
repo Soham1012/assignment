{
 "cells": [
  {
   "cell_type": "code",
   "execution_count": 1,
   "id": "f2a0cd84",
   "metadata": {},
   "outputs": [
    {
     "name": "stdout",
     "output_type": "stream",
     "text": [
      "enter a number : 58\n",
      "the sum of 58 integer is 1711.0\n"
     ]
    }
   ],
   "source": [
    "n=int(input('enter a number : '))\n",
    "sum=(n*(n+1))/2\n",
    "print(\"the sum of\",n,\"integer is\",sum)"
   ]
  }
 ],
 "metadata": {
  "kernelspec": {
   "display_name": "Python 3 (ipykernel)",
   "language": "python",
   "name": "python3"
  },
  "language_info": {
   "codemirror_mode": {
    "name": "ipython",
    "version": 3
   },
   "file_extension": ".py",
   "mimetype": "text/x-python",
   "name": "python",
   "nbconvert_exporter": "python",
   "pygments_lexer": "ipython3",
   "version": "3.9.12"
  }
 },
 "nbformat": 4,
 "nbformat_minor": 5
}
