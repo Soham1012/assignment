{
 "cells": [
  {
   "cell_type": "code",
   "execution_count": 6,
   "id": "df7263f5",
   "metadata": {},
   "outputs": [
    {
     "name": "stdout",
     "output_type": "stream",
     "text": [
      "Please Enter First String : soham\n",
      "Please Enter Second String : vraj\n",
      "Your first string has become :-  vrham\n",
      "Your second string has become :-  soaj\n"
     ]
    }
   ],
   "source": [
    "X = input(\"Please Enter First String : \")\n",
    "Y =input(\"Please Enter Second String : \")\n",
    " \n",
    "x= X[0:2]   \n",
    "X=X.replace(X[0:2],Y[0:2]) \n",
    "Y=Y.replace(Y[0:2],x)\n",
    " \n",
    "print(\"Your first string has become :- \",X)\n",
    "print(\"Your second string has become :- \",Y)"
   ]
  }
 ],
 "metadata": {
  "kernelspec": {
   "display_name": "Python 3 (ipykernel)",
   "language": "python",
   "name": "python3"
  },
  "language_info": {
   "codemirror_mode": {
    "name": "ipython",
    "version": 3
   },
   "file_extension": ".py",
   "mimetype": "text/x-python",
   "name": "python",
   "nbconvert_exporter": "python",
   "pygments_lexer": "ipython3",
   "version": "3.9.12"
  }
 },
 "nbformat": 4,
 "nbformat_minor": 5
}
