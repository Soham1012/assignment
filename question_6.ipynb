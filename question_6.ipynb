{
 "cells": [
  {
   "cell_type": "code",
   "execution_count": 1,
   "id": "22e3f973",
   "metadata": {},
   "outputs": [
    {
     "name": "stdout",
     "output_type": "stream",
     "text": [
      "entere a alphabet:52\n",
      "enter a charcter\n"
     ]
    }
   ],
   "source": [
    "n=input(\"entere a alphabet:\")\n",
    "if n.isnumeric:\n",
    "    print(\"enter a charcter\")\n",
    "elif n=='a' or n=='e' or n=='i' or n=='o' or n=='U' :\n",
    "    print(n,'is a vowel character')\n",
    "elif n=='A' or n=='E' or n=='I' or n=='O' or n=='U' :\n",
    "    print(n,'is a vowel character')\n",
    "else:\n",
    "    print(n,'is not vowel character')\n",
    "\n"
   ]
  },
  {
   "cell_type": "code",
   "execution_count": null,
   "id": "38f34090",
   "metadata": {},
   "outputs": [],
   "source": []
  }
 ],
 "metadata": {
  "kernelspec": {
   "display_name": "Python 3 (ipykernel)",
   "language": "python",
   "name": "python3"
  },
  "language_info": {
   "codemirror_mode": {
    "name": "ipython",
    "version": 3
   },
   "file_extension": ".py",
   "mimetype": "text/x-python",
   "name": "python",
   "nbconvert_exporter": "python",
   "pygments_lexer": "ipython3",
   "version": "3.9.12"
  }
 },
 "nbformat": 4,
 "nbformat_minor": 5
}
