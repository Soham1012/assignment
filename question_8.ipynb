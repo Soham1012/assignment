{
 "cells": [
  {
   "cell_type": "code",
   "execution_count": 8,
   "id": "687b0f4f",
   "metadata": {},
   "outputs": [
    {
     "name": "stdout",
     "output_type": "stream",
     "text": [
      "enter a number : 12\n",
      "enter a number : 17\n",
      "true\n"
     ]
    }
   ],
   "source": [
    "n1=int(input('enter a number : '))\n",
    "n2=int(input('enter a number : '))\n",
    "if n1==n2:\n",
    "    print(\"true\")\n",
    "elif n1+n2==5 or (n1-n2)==5or-5:\n",
    "    print(\"true\")\n",
    "else:\n",
    "    print(\"false\")"
   ]
  }
 ],
 "metadata": {
  "kernelspec": {
   "display_name": "Python 3 (ipykernel)",
   "language": "python",
   "name": "python3"
  },
  "language_info": {
   "codemirror_mode": {
    "name": "ipython",
    "version": 3
   },
   "file_extension": ".py",
   "mimetype": "text/x-python",
   "name": "python",
   "nbconvert_exporter": "python",
   "pygments_lexer": "ipython3",
   "version": "3.9.12"
  }
 },
 "nbformat": 4,
 "nbformat_minor": 5
}
