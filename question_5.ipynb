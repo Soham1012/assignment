{
 "cells": [
  {
   "cell_type": "code",
   "execution_count": 2,
   "id": "b0f891b8",
   "metadata": {},
   "outputs": [
    {
     "name": "stdout",
     "output_type": "stream",
     "text": [
      "Enter any number: 24\n",
      "Given number is even.\n",
      "24 is even because it is divisble by 2 and the remainder is 0. \n"
     ]
    }
   ],
   "source": [
    "n=int(input(\"Enter any number: \"))\n",
    "if n%2==0:\n",
    "    print(\"Given number is even.\")\n",
    "    print(n,\"is even because it is divisble by 2 and the remainder is 0. \")\n",
    "else:\n",
    "    print(\"given number is odd.\")\n",
    "    print(n,\"is odd because it is not divisble by 2 and the remainder is not 0 \")"
   ]
  }
 ],
 "metadata": {
  "kernelspec": {
   "display_name": "Python 3 (ipykernel)",
   "language": "python",
   "name": "python3"
  },
  "language_info": {
   "codemirror_mode": {
    "name": "ipython",
    "version": 3
   },
   "file_extension": ".py",
   "mimetype": "text/x-python",
   "name": "python",
   "nbconvert_exporter": "python",
   "pygments_lexer": "ipython3",
   "version": "3.9.12"
  }
 },
 "nbformat": 4,
 "nbformat_minor": 5
}
